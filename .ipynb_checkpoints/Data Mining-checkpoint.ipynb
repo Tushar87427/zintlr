{
 "cells": [
  {
   "cell_type": "code",
   "execution_count": 1,
   "id": "469f922e",
   "metadata": {},
   "outputs": [],
   "source": [
    "import scrapy "
   ]
  },
  {
   "cell_type": "code",
   "execution_count": 8,
   "id": "edd9f159",
   "metadata": {},
   "outputs": [],
   "source": [
    "class DatascrapingSpider(scrapy.Spider):\n",
    "    name = 'datascraping'\n",
    "    allowed_domains = ['www.getlatka.com']\n",
    "    start_urls = ['https://getlatka.com/saas-companies?page=1']\n",
    "    def parse(self, response):\n",
    "    \n",
    "        print(\"tushar \")\n",
    "        table = response.xpath('//*[@class=\"data-table_table__SwBLY\"]//tbody')\n",
    "        print(table )"
   ]
  },
  {
   "cell_type": "code",
   "execution_count": 3,
   "id": "9245c613",
   "metadata": {},
   "outputs": [],
   "source": []
  },
  {
   "cell_type": "code",
   "execution_count": null,
   "id": "f1f4ce25",
   "metadata": {},
   "outputs": [],
   "source": []
  }
 ],
 "metadata": {
  "kernelspec": {
   "display_name": "Python 3 (ipykernel)",
   "language": "python",
   "name": "python3"
  },
  "language_info": {
   "codemirror_mode": {
    "name": "ipython",
    "version": 3
   },
   "file_extension": ".py",
   "mimetype": "text/x-python",
   "name": "python",
   "nbconvert_exporter": "python",
   "pygments_lexer": "ipython3",
   "version": "3.10.2"
  }
 },
 "nbformat": 4,
 "nbformat_minor": 5
}
