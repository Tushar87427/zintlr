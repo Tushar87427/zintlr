{
 "cells": [
  {
   "cell_type": "code",
   "execution_count": 1,
   "id": "469f922e",
   "metadata": {},
   "outputs": [],
   "source": [
    "import scrapy\n",
    "from scrapy.crawler import CrawlerProcess"
   ]
  },
  {
   "cell_type": "code",
   "execution_count": 2,
   "id": "8e3294e4",
   "metadata": {},
   "outputs": [],
   "source": [
    "class DatascrapingSpider(scrapy.Spider):\n",
    "    name = 'datascraping'\n",
    "    allowed_domains = ['www.getlatka.com']\n",
    "    start_urls = ['https://getlatka.com/saas-companies?page=1']\n",
    "    def parse(self, response):\n",
    "    \n",
    "        print(\"tushar \")\n",
    "        table = response.xpath('//*[@class=\"data-table_table__SwBLY\"]//tbody')\n",
    "        print(table )"
   ]
  },
  {
   "cell_type": "code",
   "execution_count": null,
   "id": "cc9163f9",
   "metadata": {},
   "outputs": [],
   "source": []
  },
  {
   "cell_type": "code",
   "execution_count": null,
   "id": "060f6a55",
   "metadata": {},
   "outputs": [],
   "source": []
  }
 ],
 "metadata": {
  "kernelspec": {
   "display_name": "Python 3 (ipykernel)",
   "language": "python",
   "name": "python3"
  },
  "language_info": {
   "codemirror_mode": {
    "name": "ipython",
    "version": 3
   },
   "file_extension": ".py",
   "mimetype": "text/x-python",
   "name": "python",
   "nbconvert_exporter": "python",
   "pygments_lexer": "ipython3",
   "version": "3.10.2"
  }
 },
 "nbformat": 4,
 "nbformat_minor": 5
}
